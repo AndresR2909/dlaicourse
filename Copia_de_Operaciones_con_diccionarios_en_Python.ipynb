{
  "nbformat": 4,
  "nbformat_minor": 0,
  "metadata": {
    "colab": {
      "name": "Copia de Operaciones con diccionarios en Python.ipynb",
      "provenance": [],
      "include_colab_link": true
    },
    "kernelspec": {
      "name": "python3",
      "display_name": "Python 3"
    }
  },
  "cells": [
    {
      "cell_type": "markdown",
      "metadata": {
        "id": "view-in-github",
        "colab_type": "text"
      },
      "source": [
        "<a href=\"https://colab.research.google.com/github/AndresR2909/dlaicourse/blob/master/Copia_de_Operaciones_con_diccionarios_en_Python.ipynb\" target=\"_parent\"><img src=\"https://colab.research.google.com/assets/colab-badge.svg\" alt=\"Open In Colab\"/></a>"
      ]
    },
    {
      "cell_type": "markdown",
      "metadata": {
        "id": "cXElf2ey5VcI"
      },
      "source": [
        "**Operaciones con dicionarios en Python**\n",
        "<h2>Realizado por: John Fernando Vargas</h2>\n",
        "\n",
        "\n"
      ]
    },
    {
      "cell_type": "code",
      "metadata": {
        "id": "cgrMyabl5W9p",
        "outputId": "f8d96b6e-4782-403d-df0b-19b40d2c4052",
        "colab": {
          "base_uri": "https://localhost:8080/"
        }
      },
      "source": [
        "di = {'nombre': 'John', 'edad': 39, 'baloto': [5,16,4,35,40]}\n",
        "print(di)"
      ],
      "execution_count": 1,
      "outputs": [
        {
          "output_type": "stream",
          "text": [
            "{'nombre': 'John', 'edad': 39, 'baloto': [5, 16, 4, 35, 40]}\n"
          ],
          "name": "stdout"
        }
      ]
    },
    {
      "cell_type": "markdown",
      "metadata": {
        "id": "UpTwZoep_rUe"
      },
      "source": [
        "Indexing"
      ]
    },
    {
      "cell_type": "code",
      "metadata": {
        "id": "3h87k-zc6M0o",
        "outputId": "32da3194-dfc4-43da-c351-4f383ebf1f9b",
        "colab": {
          "base_uri": "https://localhost:8080/",
          "height": 35
        }
      },
      "source": [
        "di[\"nombre\"]"
      ],
      "execution_count": 2,
      "outputs": [
        {
          "output_type": "execute_result",
          "data": {
            "application/vnd.google.colaboratory.intrinsic+json": {
              "type": "string"
            },
            "text/plain": [
              "'John'"
            ]
          },
          "metadata": {
            "tags": []
          },
          "execution_count": 2
        }
      ]
    },
    {
      "cell_type": "code",
      "metadata": {
        "id": "WW4CailfBmZH",
        "outputId": "48f29484-d4fb-422c-924f-f6ab4033cde7",
        "colab": {
          "base_uri": "https://localhost:8080/"
        }
      },
      "source": [
        "di[\"edad\"]"
      ],
      "execution_count": 3,
      "outputs": [
        {
          "output_type": "execute_result",
          "data": {
            "text/plain": [
              "39"
            ]
          },
          "metadata": {
            "tags": []
          },
          "execution_count": 3
        }
      ]
    },
    {
      "cell_type": "code",
      "metadata": {
        "id": "wfnm905YBqBo",
        "outputId": "aabde575-a388-4b33-f2cb-d8d429997783",
        "colab": {
          "base_uri": "https://localhost:8080/"
        }
      },
      "source": [
        "di[\"baloto\"]\n",
        "#type(di[\"baloto\"])"
      ],
      "execution_count": 4,
      "outputs": [
        {
          "output_type": "execute_result",
          "data": {
            "text/plain": [
              "[5, 16, 4, 35, 40]"
            ]
          },
          "metadata": {
            "tags": []
          },
          "execution_count": 4
        }
      ]
    },
    {
      "cell_type": "code",
      "metadata": {
        "id": "4gwdC1BPBuTf",
        "outputId": "c1ed5582-0e53-4c11-e3b1-c6c70e0c0b50",
        "colab": {
          "base_uri": "https://localhost:8080/"
        }
      },
      "source": [
        "di[\"baloto\"][0]\n"
      ],
      "execution_count": 5,
      "outputs": [
        {
          "output_type": "execute_result",
          "data": {
            "text/plain": [
              "5"
            ]
          },
          "metadata": {
            "tags": []
          },
          "execution_count": 5
        }
      ]
    },
    {
      "cell_type": "code",
      "metadata": {
        "id": "_vltqPI7CCY8",
        "outputId": "62676e0f-f957-4857-891a-3ec28d634137",
        "colab": {
          "base_uri": "https://localhost:8080/"
        }
      },
      "source": [
        "di[\"baloto\"][-2]\n"
      ],
      "execution_count": 6,
      "outputs": [
        {
          "output_type": "execute_result",
          "data": {
            "text/plain": [
              "35"
            ]
          },
          "metadata": {
            "tags": []
          },
          "execution_count": 6
        }
      ]
    },
    {
      "cell_type": "code",
      "metadata": {
        "id": "gcFmsWBx3UrE",
        "outputId": "1c9cf555-f2ee-4ff8-e624-c33e771a0921",
        "colab": {
          "base_uri": "https://localhost:8080/",
          "height": 165
        }
      },
      "source": [
        "di[\"nombre\":\"edad\"] #Error el slicing ni tiene sentido"
      ],
      "execution_count": 7,
      "outputs": [
        {
          "output_type": "error",
          "ename": "TypeError",
          "evalue": "ignored",
          "traceback": [
            "\u001b[0;31m---------------------------------------------------------------------------\u001b[0m",
            "\u001b[0;31mTypeError\u001b[0m                                 Traceback (most recent call last)",
            "\u001b[0;32m<ipython-input-7-8a8f7afdbe7d>\u001b[0m in \u001b[0;36m<module>\u001b[0;34m()\u001b[0m\n\u001b[0;32m----> 1\u001b[0;31m \u001b[0mdi\u001b[0m\u001b[0;34m[\u001b[0m\u001b[0;34m\"nombre\"\u001b[0m\u001b[0;34m:\u001b[0m\u001b[0;34m\"edad\"\u001b[0m\u001b[0;34m]\u001b[0m \u001b[0;31m#Error el slicing ni tiene sentido\u001b[0m\u001b[0;34m\u001b[0m\u001b[0;34m\u001b[0m\u001b[0m\n\u001b[0m",
            "\u001b[0;31mTypeError\u001b[0m: unhashable type: 'slice'"
          ]
        }
      ]
    },
    {
      "cell_type": "markdown",
      "metadata": {
        "id": "o1j6uGSr_9AV"
      },
      "source": [
        "Asignar datos al diccionario"
      ]
    },
    {
      "cell_type": "code",
      "metadata": {
        "id": "m_AIXDe5__eV",
        "outputId": "8adb2219-3508-4cb1-a6df-63f223ef025b",
        "colab": {
          "base_uri": "https://localhost:8080/"
        }
      },
      "source": [
        "print(di)\n",
        "di[\"signo\"]=\"tauro\"\n",
        "print(di)"
      ],
      "execution_count": 8,
      "outputs": [
        {
          "output_type": "stream",
          "text": [
            "{'nombre': 'John', 'edad': 39, 'baloto': [5, 16, 4, 35, 40]}\n",
            "{'nombre': 'John', 'edad': 39, 'baloto': [5, 16, 4, 35, 40], 'signo': 'tauro'}\n"
          ],
          "name": "stdout"
        }
      ]
    },
    {
      "cell_type": "code",
      "metadata": {
        "id": "OEtp1Lx24z6v",
        "outputId": "7aaa9bf5-be0a-40b0-959f-11b34b52f668",
        "colab": {
          "base_uri": "https://localhost:8080/"
        }
      },
      "source": [
        "di[\"nombre\"]=\"Ana\"\n",
        "print(di)"
      ],
      "execution_count": 9,
      "outputs": [
        {
          "output_type": "stream",
          "text": [
            "{'nombre': 'Ana', 'edad': 39, 'baloto': [5, 16, 4, 35, 40], 'signo': 'tauro'}\n"
          ],
          "name": "stdout"
        }
      ]
    },
    {
      "cell_type": "code",
      "metadata": {
        "id": "WAoaHURZASu2",
        "outputId": "48b98b38-fcdf-4b1f-91aa-b4ded1bf355f",
        "colab": {
          "base_uri": "https://localhost:8080/"
        }
      },
      "source": [
        "print(di)\n",
        "di[\"baloto\"][2]=6\n",
        "print(di)"
      ],
      "execution_count": 10,
      "outputs": [
        {
          "output_type": "stream",
          "text": [
            "{'nombre': 'Ana', 'edad': 39, 'baloto': [5, 16, 4, 35, 40], 'signo': 'tauro'}\n",
            "{'nombre': 'Ana', 'edad': 39, 'baloto': [5, 16, 6, 35, 40], 'signo': 'tauro'}\n"
          ],
          "name": "stdout"
        }
      ]
    },
    {
      "cell_type": "code",
      "metadata": {
        "id": "EHlruPPIXxtY",
        "outputId": "7e21c746-6dde-403c-bbc8-ff5e04da6f7c",
        "colab": {
          "base_uri": "https://localhost:8080/",
          "height": 165
        }
      },
      "source": [
        "di[\"nom\"]"
      ],
      "execution_count": 11,
      "outputs": [
        {
          "output_type": "error",
          "ename": "KeyError",
          "evalue": "ignored",
          "traceback": [
            "\u001b[0;31m---------------------------------------------------------------------------\u001b[0m",
            "\u001b[0;31mKeyError\u001b[0m                                  Traceback (most recent call last)",
            "\u001b[0;32m<ipython-input-11-9b085927d4ae>\u001b[0m in \u001b[0;36m<module>\u001b[0;34m()\u001b[0m\n\u001b[0;32m----> 1\u001b[0;31m \u001b[0mdi\u001b[0m\u001b[0;34m[\u001b[0m\u001b[0;34m\"nom\"\u001b[0m\u001b[0;34m]\u001b[0m\u001b[0;34m\u001b[0m\u001b[0;34m\u001b[0m\u001b[0m\n\u001b[0m",
            "\u001b[0;31mKeyError\u001b[0m: 'nom'"
          ]
        }
      ]
    },
    {
      "cell_type": "markdown",
      "metadata": {
        "id": "4QrcDV75FA9c"
      },
      "source": [
        "Función get"
      ]
    },
    {
      "cell_type": "code",
      "metadata": {
        "id": "3jbi2IL52SEQ",
        "outputId": "0b8d8df5-2059-4afb-c6c9-8a5b74753dc6",
        "colab": {
          "base_uri": "https://localhost:8080/",
          "height": 195
        }
      },
      "source": [
        "print(di)\n",
        "di[\"n\"]"
      ],
      "execution_count": null,
      "outputs": [
        {
          "output_type": "stream",
          "text": [
            "{'nombre': 'Ana', 'edad': 39, 'baloto': [5, 16, 6, 35, 40], 'signo': 'tauro'}\n"
          ],
          "name": "stdout"
        },
        {
          "output_type": "error",
          "ename": "KeyError",
          "evalue": "ignored",
          "traceback": [
            "\u001b[0;31m---------------------------------------------------------------------------\u001b[0m",
            "\u001b[0;31mKeyError\u001b[0m                                  Traceback (most recent call last)",
            "\u001b[0;32m<ipython-input-17-a61d4862f61c>\u001b[0m in \u001b[0;36m<module>\u001b[0;34m()\u001b[0m\n\u001b[1;32m      1\u001b[0m \u001b[0mprint\u001b[0m\u001b[0;34m(\u001b[0m\u001b[0mdi\u001b[0m\u001b[0;34m)\u001b[0m\u001b[0;34m\u001b[0m\u001b[0;34m\u001b[0m\u001b[0m\n\u001b[0;32m----> 2\u001b[0;31m \u001b[0mdi\u001b[0m\u001b[0;34m[\u001b[0m\u001b[0;34m\"n\"\u001b[0m\u001b[0;34m]\u001b[0m\u001b[0;34m\u001b[0m\u001b[0;34m\u001b[0m\u001b[0m\n\u001b[0m",
            "\u001b[0;31mKeyError\u001b[0m: 'n'"
          ]
        }
      ]
    },
    {
      "cell_type": "code",
      "metadata": {
        "id": "LW3JNqTB2CSy",
        "outputId": "d42edf30-f15e-40cd-a42a-71fd512d9de1",
        "colab": {
          "base_uri": "https://localhost:8080/",
          "height": 35
        }
      },
      "source": [
        "di.get(\"nombre\")\n"
      ],
      "execution_count": 12,
      "outputs": [
        {
          "output_type": "execute_result",
          "data": {
            "application/vnd.google.colaboratory.intrinsic+json": {
              "type": "string"
            },
            "text/plain": [
              "'Ana'"
            ]
          },
          "metadata": {
            "tags": []
          },
          "execution_count": 12
        }
      ]
    },
    {
      "cell_type": "code",
      "metadata": {
        "id": "elmxrw4K2P-u",
        "outputId": "5d6ac14f-240a-4517-bb60-fe824a8e19c1",
        "colab": {
          "base_uri": "https://localhost:8080/"
        }
      },
      "source": [
        "print(di.get(\"n\"))\n"
      ],
      "execution_count": 13,
      "outputs": [
        {
          "output_type": "stream",
          "text": [
            "None\n"
          ],
          "name": "stdout"
        }
      ]
    },
    {
      "cell_type": "markdown",
      "metadata": {
        "id": "kAaWcVMUFewR"
      },
      "source": [
        "función pop"
      ]
    },
    {
      "cell_type": "code",
      "metadata": {
        "id": "zHaK-n4wFgwC",
        "outputId": "27eba8bf-30d9-4b23-a7fb-0ca231f5f56f",
        "colab": {
          "base_uri": "https://localhost:8080/"
        }
      },
      "source": [
        "di = {'nombre': 'John', 'edad': 39, 'baloto': [5,16,4,35,40]}\n",
        "x=di.pop(\"edad\")\n",
        "print(x)\n",
        "print(di)"
      ],
      "execution_count": 14,
      "outputs": [
        {
          "output_type": "stream",
          "text": [
            "39\n",
            "{'nombre': 'John', 'baloto': [5, 16, 4, 35, 40]}\n"
          ],
          "name": "stdout"
        }
      ]
    },
    {
      "cell_type": "markdown",
      "metadata": {
        "id": "4wrBwuExFz_W"
      },
      "source": [
        "funcion in"
      ]
    },
    {
      "cell_type": "code",
      "metadata": {
        "id": "7BcfGANYGTTc",
        "outputId": "e70e1a01-ceac-4750-a666-cdb487614280",
        "colab": {
          "base_uri": "https://localhost:8080/"
        }
      },
      "source": [
        "\"nombre\" in di"
      ],
      "execution_count": 15,
      "outputs": [
        {
          "output_type": "execute_result",
          "data": {
            "text/plain": [
              "True"
            ]
          },
          "metadata": {
            "tags": []
          },
          "execution_count": 15
        }
      ]
    },
    {
      "cell_type": "code",
      "metadata": {
        "id": "o-tHqs1UGXxE",
        "outputId": "29e1294f-e39c-45f0-9462-ae133f3912dc",
        "colab": {
          "base_uri": "https://localhost:8080/"
        }
      },
      "source": [
        "\"cursos\" in di"
      ],
      "execution_count": 16,
      "outputs": [
        {
          "output_type": "execute_result",
          "data": {
            "text/plain": [
              "False"
            ]
          },
          "metadata": {
            "tags": []
          },
          "execution_count": 16
        }
      ]
    },
    {
      "cell_type": "code",
      "metadata": {
        "id": "Z-GYOUkLGdLE",
        "outputId": "db4e9b83-1495-4591-f633-46910c090c0f",
        "colab": {
          "base_uri": "https://localhost:8080/"
        }
      },
      "source": [
        "\"John\" in di"
      ],
      "execution_count": 17,
      "outputs": [
        {
          "output_type": "execute_result",
          "data": {
            "text/plain": [
              "False"
            ]
          },
          "metadata": {
            "tags": []
          },
          "execution_count": 17
        }
      ]
    },
    {
      "cell_type": "code",
      "metadata": {
        "id": "Eh7O3BUiGg5P",
        "outputId": "b9ba4ded-3a40-45b2-f917-b5a9545d6276",
        "colab": {
          "base_uri": "https://localhost:8080/"
        }
      },
      "source": [
        "\"John\" in di.values()"
      ],
      "execution_count": 18,
      "outputs": [
        {
          "output_type": "execute_result",
          "data": {
            "text/plain": [
              "True"
            ]
          },
          "metadata": {
            "tags": []
          },
          "execution_count": 18
        }
      ]
    },
    {
      "cell_type": "markdown",
      "metadata": {
        "id": "dZSqjZfDEFvp"
      },
      "source": [
        "Función dict ()"
      ]
    },
    {
      "cell_type": "code",
      "metadata": {
        "id": "u04LVMrMEGIX",
        "outputId": "c39d630a-4baa-4bab-b715-e501f5a6866d",
        "colab": {
          "base_uri": "https://localhost:8080/"
        }
      },
      "source": [
        "di =  dict(nombre='John', edad=30, signo=\"Tauro\", cursos=[\"Python\", \"estadística\"])\n",
        "#di = {\"nombre\":\"John\",\"edad\":30,\"signo\":\"Tauro\",\"cursos\":[\"Python\", \"estadística\"]}\n",
        "print(di)\n",
        "di[\"cursos\"]"
      ],
      "execution_count": 31,
      "outputs": [
        {
          "output_type": "stream",
          "text": [
            "{'nombre': 'John', 'edad': 30, 'signo': 'Tauro', 'cursos': ['Python', 'estadística']}\n"
          ],
          "name": "stdout"
        },
        {
          "output_type": "execute_result",
          "data": {
            "text/plain": [
              "['Python', 'estadística']"
            ]
          },
          "metadata": {
            "tags": []
          },
          "execution_count": 31
        }
      ]
    },
    {
      "cell_type": "markdown",
      "metadata": {
        "id": "tj1spdoOFmo7"
      },
      "source": [
        "Función zip()"
      ]
    },
    {
      "cell_type": "code",
      "metadata": {
        "id": "QXqywQ5CFf2F",
        "outputId": "b3043b85-170f-4622-a6f6-a4db542da5f9",
        "colab": {
          "base_uri": "https://localhost:8080/"
        }
      },
      "source": [
        "di=dict(zip([\"a\",\"b\",\"x\"],[2,5,6]))\n",
        "print(di)\n",
        "di[\"x\"]"
      ],
      "execution_count": 19,
      "outputs": [
        {
          "output_type": "stream",
          "text": [
            "{'a': 2, 'b': 5, 'x': 6}\n"
          ],
          "name": "stdout"
        },
        {
          "output_type": "execute_result",
          "data": {
            "text/plain": [
              "6"
            ]
          },
          "metadata": {
            "tags": []
          },
          "execution_count": 19
        }
      ]
    },
    {
      "cell_type": "markdown",
      "metadata": {
        "id": "hAylP53qGDS_"
      },
      "source": [
        "Función items()\n"
      ]
    },
    {
      "cell_type": "code",
      "metadata": {
        "id": "YaddOWN_GJKg",
        "outputId": "f6fa7542-3a7f-4418-cca4-f31d5c20138d",
        "colab": {
          "base_uri": "https://localhost:8080/",
          "height": 34
        }
      },
      "source": [
        "di = {\"nombre\":\"John\",\"edad\":30,\"signo\":\"Tauro\",\"cursos\":[\"Python\", \"estadística\"]}\n",
        "di.items()"
      ],
      "execution_count": null,
      "outputs": [
        {
          "output_type": "execute_result",
          "data": {
            "text/plain": [
              "dict_items([('nombre', 'John'), ('edad', 30), ('signo', 'Tauro'), ('cursos', ['Python', 'estadística'])])"
            ]
          },
          "metadata": {
            "tags": []
          },
          "execution_count": 28
        }
      ]
    },
    {
      "cell_type": "code",
      "metadata": {
        "id": "iyPvC0_7JEyx",
        "outputId": "30ea32d7-34fb-463c-ede4-ffdbbee9588b",
        "colab": {
          "base_uri": "https://localhost:8080/",
          "height": 34
        }
      },
      "source": [
        "type(di.items())"
      ],
      "execution_count": null,
      "outputs": [
        {
          "output_type": "execute_result",
          "data": {
            "text/plain": [
              "dict_items"
            ]
          },
          "metadata": {
            "tags": []
          },
          "execution_count": 29
        }
      ]
    },
    {
      "cell_type": "markdown",
      "metadata": {
        "id": "7K6-i71IGRMX"
      },
      "source": [
        "Función keys()"
      ]
    },
    {
      "cell_type": "code",
      "metadata": {
        "id": "mFR94gzDGWA3",
        "outputId": "f0bd83f5-0331-46c4-8b44-f7112463655b",
        "colab": {
          "base_uri": "https://localhost:8080/"
        }
      },
      "source": [
        "di.keys()"
      ],
      "execution_count": 20,
      "outputs": [
        {
          "output_type": "execute_result",
          "data": {
            "text/plain": [
              "dict_keys(['a', 'b', 'x'])"
            ]
          },
          "metadata": {
            "tags": []
          },
          "execution_count": 20
        }
      ]
    },
    {
      "cell_type": "markdown",
      "metadata": {
        "id": "GqjXEumHGZab"
      },
      "source": [
        "Función values()"
      ]
    },
    {
      "cell_type": "code",
      "metadata": {
        "id": "FRsDjpLvGfmv",
        "outputId": "e21e65e4-34dc-412a-b214-959760a46b2e",
        "colab": {
          "base_uri": "https://localhost:8080/"
        }
      },
      "source": [
        "di.values()"
      ],
      "execution_count": 21,
      "outputs": [
        {
          "output_type": "execute_result",
          "data": {
            "text/plain": [
              "dict_values([2, 5, 6])"
            ]
          },
          "metadata": {
            "tags": []
          },
          "execution_count": 21
        }
      ]
    },
    {
      "cell_type": "markdown",
      "metadata": {
        "id": "9MsoKu1JHB9n"
      },
      "source": [
        "Función copy()"
      ]
    },
    {
      "cell_type": "code",
      "metadata": {
        "id": "iiaiil5nJQBQ",
        "outputId": "9101ea42-fdb0-496f-8da4-3501025e0ba6",
        "colab": {
          "base_uri": "https://localhost:8080/"
        }
      },
      "source": [
        "print(di)\n",
        "di2=di\n",
        "print(di2)"
      ],
      "execution_count": 32,
      "outputs": [
        {
          "output_type": "stream",
          "text": [
            "{'nombre': 'John', 'edad': 30, 'signo': 'Tauro', 'cursos': ['Python', 'estadística']}\n",
            "{'nombre': 'John', 'edad': 30, 'signo': 'Tauro', 'cursos': ['Python', 'estadística']}\n"
          ],
          "name": "stdout"
        }
      ]
    },
    {
      "cell_type": "code",
      "metadata": {
        "id": "qyUV0mzRJaXK",
        "outputId": "2e9ff866-c3b2-4caf-8aa6-ef1d7dde6bf9",
        "colab": {
          "base_uri": "https://localhost:8080/"
        }
      },
      "source": [
        "id(di)"
      ],
      "execution_count": 33,
      "outputs": [
        {
          "output_type": "execute_result",
          "data": {
            "text/plain": [
              "139896254554832"
            ]
          },
          "metadata": {
            "tags": []
          },
          "execution_count": 33
        }
      ]
    },
    {
      "cell_type": "code",
      "metadata": {
        "id": "WxD-GoIEJcV_",
        "outputId": "28850991-9e6b-447d-93e1-85d9de2ac459",
        "colab": {
          "base_uri": "https://localhost:8080/"
        }
      },
      "source": [
        "id(di2)"
      ],
      "execution_count": 26,
      "outputs": [
        {
          "output_type": "execute_result",
          "data": {
            "text/plain": [
              "139896254570568"
            ]
          },
          "metadata": {
            "tags": []
          },
          "execution_count": 26
        }
      ]
    },
    {
      "cell_type": "code",
      "metadata": {
        "id": "PP-JqpFEJfs7",
        "outputId": "0f9f4dd9-546e-44e7-808f-8facd5dfe7c5",
        "colab": {
          "base_uri": "https://localhost:8080/"
        }
      },
      "source": [
        "di[\"peso\"]=80\n",
        "print(di)\n",
        "id(di)"
      ],
      "execution_count": 27,
      "outputs": [
        {
          "output_type": "stream",
          "text": [
            "{'a': 2, 'b': 5, 'x': 6, 'peso': 80}\n"
          ],
          "name": "stdout"
        },
        {
          "output_type": "execute_result",
          "data": {
            "text/plain": [
              "139896254570568"
            ]
          },
          "metadata": {
            "tags": []
          },
          "execution_count": 27
        }
      ]
    },
    {
      "cell_type": "code",
      "metadata": {
        "id": "ffRgRmLgJq5N",
        "outputId": "fc3cb32e-1a9a-48d3-ddfb-92ef3ae1394d",
        "colab": {
          "base_uri": "https://localhost:8080/"
        }
      },
      "source": [
        "print(di2)"
      ],
      "execution_count": 28,
      "outputs": [
        {
          "output_type": "stream",
          "text": [
            "{'a': 2, 'b': 5, 'x': 6, 'peso': 80}\n"
          ],
          "name": "stdout"
        }
      ]
    },
    {
      "cell_type": "code",
      "metadata": {
        "id": "fUF65TtoHEbt",
        "outputId": "412fd298-0844-4e54-8b7d-59a603bacfea",
        "colab": {
          "base_uri": "https://localhost:8080/"
        }
      },
      "source": [
        "di2=di.copy()\n",
        "print(di2)"
      ],
      "execution_count": 34,
      "outputs": [
        {
          "output_type": "stream",
          "text": [
            "{'nombre': 'John', 'edad': 30, 'signo': 'Tauro', 'cursos': ['Python', 'estadística']}\n"
          ],
          "name": "stdout"
        }
      ]
    },
    {
      "cell_type": "code",
      "metadata": {
        "id": "6VwZ5dmfKVyn",
        "outputId": "c2c58a73-eb40-4342-977d-b8c5366fde12",
        "colab": {
          "base_uri": "https://localhost:8080/"
        }
      },
      "source": [
        "print(id(di))\n",
        "print(id(di2))\n"
      ],
      "execution_count": 35,
      "outputs": [
        {
          "output_type": "stream",
          "text": [
            "139896254554832\n",
            "139896254508704\n"
          ],
          "name": "stdout"
        }
      ]
    },
    {
      "cell_type": "markdown",
      "metadata": {
        "id": "m-gxvWxWHT-C"
      },
      "source": [
        "Función update()"
      ]
    },
    {
      "cell_type": "code",
      "metadata": {
        "id": "R5DZqNEZHXfh",
        "outputId": "738593c2-2790-41cc-e7bb-4f04d94e90a4",
        "colab": {
          "base_uri": "https://localhost:8080/"
        }
      },
      "source": [
        "di={\"a\":1,\"b\":10}\n",
        "di3={\"nombre\":\"Julio\", \"loteria\":342}\n",
        "print(di)\n",
        "print(di3)\n",
        "di.update(di3)\n",
        "print(di)\n",
        "di.update({\"a\":[100],\"curso\":\"python\"})  #a ya existía\n",
        "print(di)\n",
        "\n",
        "di[\"a\"].append(500)\n",
        "print(di)\n",
        "\n",
        "di4=di\n",
        "type(di4)\n",
        "print(di4)"
      ],
      "execution_count": 36,
      "outputs": [
        {
          "output_type": "stream",
          "text": [
            "{'a': 1, 'b': 10}\n",
            "{'nombre': 'Julio', 'loteria': 342}\n",
            "{'a': 1, 'b': 10, 'nombre': 'Julio', 'loteria': 342}\n",
            "{'a': [100], 'b': 10, 'nombre': 'Julio', 'loteria': 342, 'curso': 'python'}\n",
            "{'a': [100, 500], 'b': 10, 'nombre': 'Julio', 'loteria': 342, 'curso': 'python'}\n",
            "{'a': [100, 500], 'b': 10, 'nombre': 'Julio', 'loteria': 342, 'curso': 'python'}\n"
          ],
          "name": "stdout"
        }
      ]
    },
    {
      "cell_type": "markdown",
      "metadata": {
        "id": "gUtQKjMkGtcU"
      },
      "source": [
        "Función clear()"
      ]
    },
    {
      "cell_type": "code",
      "metadata": {
        "id": "1twHBkfSGxaX",
        "outputId": "641460c1-9cc9-4090-eecb-e123444271cc",
        "colab": {
          "base_uri": "https://localhost:8080/"
        }
      },
      "source": [
        "di.clear()\n",
        "print(di)"
      ],
      "execution_count": 37,
      "outputs": [
        {
          "output_type": "stream",
          "text": [
            "{}\n"
          ],
          "name": "stdout"
        }
      ]
    },
    {
      "cell_type": "code",
      "metadata": {
        "id": "U8SB04Tl8X6D",
        "outputId": "a5ea275c-1698-47dc-a0ee-2411e0a469bc",
        "colab": {
          "base_uri": "https://localhost:8080/",
          "height": 182
        }
      },
      "source": [
        "del di\n",
        "print(di)"
      ],
      "execution_count": 38,
      "outputs": [
        {
          "output_type": "error",
          "ename": "NameError",
          "evalue": "ignored",
          "traceback": [
            "\u001b[0;31m---------------------------------------------------------------------------\u001b[0m",
            "\u001b[0;31mNameError\u001b[0m                                 Traceback (most recent call last)",
            "\u001b[0;32m<ipython-input-38-36aff0ee1f7f>\u001b[0m in \u001b[0;36m<module>\u001b[0;34m()\u001b[0m\n\u001b[1;32m      1\u001b[0m \u001b[0;32mdel\u001b[0m \u001b[0mdi\u001b[0m\u001b[0;34m\u001b[0m\u001b[0;34m\u001b[0m\u001b[0m\n\u001b[0;32m----> 2\u001b[0;31m \u001b[0mprint\u001b[0m\u001b[0;34m(\u001b[0m\u001b[0mdi\u001b[0m\u001b[0;34m)\u001b[0m\u001b[0;34m\u001b[0m\u001b[0;34m\u001b[0m\u001b[0m\n\u001b[0m",
            "\u001b[0;31mNameError\u001b[0m: name 'di' is not defined"
          ]
        }
      ]
    },
    {
      "cell_type": "code",
      "metadata": {
        "id": "NQbLMsHThGSZ"
      },
      "source": [
        "di={2:100} #las llaves no tienen que ser string"
      ],
      "execution_count": 39,
      "outputs": []
    },
    {
      "cell_type": "code",
      "metadata": {
        "id": "GLZ8hXKEhLuO",
        "outputId": "7d7edf11-3c77-4b13-e0d6-1c47f397836a",
        "colab": {
          "base_uri": "https://localhost:8080/"
        }
      },
      "source": [
        "di[2]"
      ],
      "execution_count": 40,
      "outputs": [
        {
          "output_type": "execute_result",
          "data": {
            "text/plain": [
              "100"
            ]
          },
          "metadata": {
            "tags": []
          },
          "execution_count": 40
        }
      ]
    }
  ]
}