{
  "nbformat": 4,
  "nbformat_minor": 0,
  "metadata": {
    "colab": {
      "name": "Copia de 5. Ejercicios con diccionarios.ipynb",
      "provenance": [],
      "include_colab_link": true
    },
    "kernelspec": {
      "name": "python3",
      "display_name": "Python 3"
    }
  },
  "cells": [
    {
      "cell_type": "markdown",
      "metadata": {
        "id": "view-in-github",
        "colab_type": "text"
      },
      "source": [
        "<a href=\"https://colab.research.google.com/github/AndresR2909/dlaicourse/blob/master/Ejercicios_con_diccionarios.ipynb\" target=\"_parent\"><img src=\"https://colab.research.google.com/assets/colab-badge.svg\" alt=\"Open In Colab\"/></a>"
      ]
    },
    {
      "cell_type": "markdown",
      "metadata": {
        "id": "0thLTmdSOA8O"
      },
      "source": [
        "Cree un diccionario que tenga las siguientes claves (keys):\n",
        "\n",
        "Nombre\n",
        "\n",
        "Edad\n",
        "\n",
        "Profesión\n",
        "\n",
        "Nombre de los 4 paises que más ha visitado\n",
        "\n",
        "Peso en los últimos 3 meses\n",
        "\n",
        "Complete la información para tres personas (puede inventar información)\n"
      ]
    },
    {
      "cell_type": "code",
      "metadata": {
        "id": "FVXjApIPDmS0",
        "outputId": "1d1175bd-88ca-4aea-8e24-6da856d4792c",
        "colab": {
          "base_uri": "https://localhost:8080/"
        }
      },
      "source": [
        "keys=[\"Nombre\",\"Edad\", \"Profesion\",\"Paises\", \"Peso\"]\n",
        "valor=[[\"Juan\",\"Andres\",\"Camilo\"],[25,30,35],[\"Ingeniero\",\"Medico\",\"Independiente\"],[[\"Colombia\",\"peru\",\"bolivia\",\"brazil\"],[\"estados unidos\",\"colombia\",\"españa\",\"canada\"],[\"Turquia\",\"Alemania\",\"china\",\"Rusia\"]],[[60,61,62],[75,74,73],[80,80,80]]]\n",
        "dic=dict(zip(keys,valor))\n",
        "dic"
      ],
      "execution_count": 4,
      "outputs": [
        {
          "output_type": "execute_result",
          "data": {
            "text/plain": [
              "{'Edad': [25, 30, 35],\n",
              " 'Nombre': ['Juan', 'Andres', 'Camilo'],\n",
              " 'Paises': [['Colombia', 'peru', 'bolivia', 'brazil'],\n",
              "  ['estados unidos', 'colombia', 'españa', 'canada'],\n",
              "  ['Turquia', 'Alemania', 'china', 'Rusia']],\n",
              " 'Peso': [[60, 61, 62], [75, 74, 73], [80, 80, 80]],\n",
              " 'Profesion': ['Ingeniero', 'Medico', 'Independiente']}"
            ]
          },
          "metadata": {
            "tags": []
          },
          "execution_count": 4
        }
      ]
    },
    {
      "cell_type": "markdown",
      "metadata": {
        "id": "iZxQJT3mO9ak"
      },
      "source": [
        "Usando indexación acceda a los nombres de todas las personas de su diccionario"
      ]
    },
    {
      "cell_type": "code",
      "metadata": {
        "id": "tOFP8-NIPSEA",
        "outputId": "08ee14d2-7a69-4bf0-8923-88168a88f7de",
        "colab": {
          "base_uri": "https://localhost:8080/"
        }
      },
      "source": [
        "dic[\"Nombre\"]"
      ],
      "execution_count": 6,
      "outputs": [
        {
          "output_type": "execute_result",
          "data": {
            "text/plain": [
              "['Juan', 'Andres', 'Camilo']"
            ]
          },
          "metadata": {
            "tags": []
          },
          "execution_count": 6
        }
      ]
    },
    {
      "cell_type": "markdown",
      "metadata": {
        "id": "MGalHQ3tQCvp"
      },
      "source": [
        "Usando indexación acceda a las edades de todas las personas de su diccionario"
      ]
    },
    {
      "cell_type": "code",
      "metadata": {
        "id": "HdzE_P0cQDAe",
        "outputId": "118fe39a-85f2-451c-d470-8218298702fb",
        "colab": {
          "base_uri": "https://localhost:8080/"
        }
      },
      "source": [
        "dic[\"Edad\"]"
      ],
      "execution_count": 7,
      "outputs": [
        {
          "output_type": "execute_result",
          "data": {
            "text/plain": [
              "[25, 30, 35]"
            ]
          },
          "metadata": {
            "tags": []
          },
          "execution_count": 7
        }
      ]
    },
    {
      "cell_type": "markdown",
      "metadata": {
        "id": "tAg9DCt7QL9a"
      },
      "source": [
        "Usando indexación acceda a la profesión de la trecera persona de su diccionario"
      ]
    },
    {
      "cell_type": "code",
      "metadata": {
        "id": "kmTEJ1QaTEqc",
        "outputId": "0837ba2f-1ca1-449f-dd40-26ef6dca9727",
        "colab": {
          "base_uri": "https://localhost:8080/",
          "height": 35
        }
      },
      "source": [
        "dic[\"Profesion\"][2]"
      ],
      "execution_count": 9,
      "outputs": [
        {
          "output_type": "execute_result",
          "data": {
            "application/vnd.google.colaboratory.intrinsic+json": {
              "type": "string"
            },
            "text/plain": [
              "'Independiente'"
            ]
          },
          "metadata": {
            "tags": []
          },
          "execution_count": 9
        }
      ]
    },
    {
      "cell_type": "markdown",
      "metadata": {
        "id": "lWi0Et4qPSlT"
      },
      "source": [
        "Usando indexación acceda al nombre del segundo país más visitado por la tercera persona"
      ]
    },
    {
      "cell_type": "code",
      "metadata": {
        "id": "wkBCugZ3Ptek",
        "outputId": "28815d4b-bd8e-4460-c8c5-377a7f1ba4ca",
        "colab": {
          "base_uri": "https://localhost:8080/",
          "height": 35
        }
      },
      "source": [
        "dic[\"Paises\"][2][1]"
      ],
      "execution_count": 10,
      "outputs": [
        {
          "output_type": "execute_result",
          "data": {
            "application/vnd.google.colaboratory.intrinsic+json": {
              "type": "string"
            },
            "text/plain": [
              "'Alemania'"
            ]
          },
          "metadata": {
            "tags": []
          },
          "execution_count": 10
        }
      ]
    },
    {
      "cell_type": "markdown",
      "metadata": {
        "id": "cZd1qYV7P4fw"
      },
      "source": [
        "Usando indexación acceda al peso en el primer mes de la segunda persona de su diccionario"
      ]
    },
    {
      "cell_type": "code",
      "metadata": {
        "id": "eHqkKCt2P4fy",
        "outputId": "0f8a7380-508f-4040-fa86-7ced473d0bb6",
        "colab": {
          "base_uri": "https://localhost:8080/"
        }
      },
      "source": [
        "dic[\"Peso\"][1][0]"
      ],
      "execution_count": 11,
      "outputs": [
        {
          "output_type": "execute_result",
          "data": {
            "text/plain": [
              "75"
            ]
          },
          "metadata": {
            "tags": []
          },
          "execution_count": 11
        }
      ]
    },
    {
      "cell_type": "markdown",
      "metadata": {
        "id": "B1AIB7YSQWtd"
      },
      "source": [
        "Usando slicing acceda a las edades de las dos primeras personas de su diccionario\n",
        "\n",
        "\n"
      ]
    },
    {
      "cell_type": "code",
      "metadata": {
        "id": "2nT-Iv-mQddJ",
        "outputId": "0b4ae80b-7047-41fd-b97f-5ffb786f6cef",
        "colab": {
          "base_uri": "https://localhost:8080/"
        }
      },
      "source": [
        "dic[\"Edad\"][0:2]"
      ],
      "execution_count": 12,
      "outputs": [
        {
          "output_type": "execute_result",
          "data": {
            "text/plain": [
              "[25, 30]"
            ]
          },
          "metadata": {
            "tags": []
          },
          "execution_count": 12
        }
      ]
    },
    {
      "cell_type": "markdown",
      "metadata": {
        "id": "AhUHFjwnQd05"
      },
      "source": [
        "Usando slicing acceda a las profesiones de las dos últimas personas de su diccionario"
      ]
    },
    {
      "cell_type": "code",
      "metadata": {
        "id": "mRuApqgKQ3BI",
        "outputId": "8e1b072f-0660-4414-c3af-c55fe6519ac3",
        "colab": {
          "base_uri": "https://localhost:8080/"
        }
      },
      "source": [
        "dic[\"Profesion\"][1:]"
      ],
      "execution_count": 13,
      "outputs": [
        {
          "output_type": "execute_result",
          "data": {
            "text/plain": [
              "['Medico', 'Independiente']"
            ]
          },
          "metadata": {
            "tags": []
          },
          "execution_count": 13
        }
      ]
    },
    {
      "cell_type": "markdown",
      "metadata": {
        "id": "rTRNejghQkhQ"
      },
      "source": [
        "Con código verifique que la clave edad está en su diccionario"
      ]
    },
    {
      "cell_type": "code",
      "metadata": {
        "id": "5G9bFfj4Q2VF",
        "outputId": "b86ab9dc-e8da-4faa-90a0-b22143c31c93",
        "colab": {
          "base_uri": "https://localhost:8080/"
        }
      },
      "source": [
        "\"Edad\" in dic"
      ],
      "execution_count": 14,
      "outputs": [
        {
          "output_type": "execute_result",
          "data": {
            "text/plain": [
              "True"
            ]
          },
          "metadata": {
            "tags": []
          },
          "execution_count": 14
        }
      ]
    },
    {
      "cell_type": "markdown",
      "metadata": {
        "id": "R9bL1KoAQ6Ty"
      },
      "source": [
        "Con código identifique si el nombre Juan está en su diccionario"
      ]
    },
    {
      "cell_type": "code",
      "metadata": {
        "id": "SdBwjR72RHjN",
        "outputId": "664bcacc-29ec-4f96-cdcd-63e30f8fc47d",
        "colab": {
          "base_uri": "https://localhost:8080/"
        }
      },
      "source": [
        " \"Juan\" in dic[\"Nombre\"]"
      ],
      "execution_count": 17,
      "outputs": [
        {
          "output_type": "execute_result",
          "data": {
            "text/plain": [
              "True"
            ]
          },
          "metadata": {
            "tags": []
          },
          "execution_count": 17
        }
      ]
    },
    {
      "cell_type": "markdown",
      "metadata": {
        "id": "xXDj-3cqRIDy"
      },
      "source": [
        "Con código identifique si el alguien ha estado en México, en su diccionario"
      ]
    },
    {
      "cell_type": "code",
      "metadata": {
        "id": "5SbPmVszRTXx",
        "outputId": "e07bf84b-76b1-4ac4-c5f4-8fcd43b1b794",
        "colab": {
          "base_uri": "https://localhost:8080/"
        }
      },
      "source": [
        "\"México\" in dic[\"Paises\"]"
      ],
      "execution_count": 19,
      "outputs": [
        {
          "output_type": "execute_result",
          "data": {
            "text/plain": [
              "False"
            ]
          },
          "metadata": {
            "tags": []
          },
          "execution_count": 19
        }
      ]
    },
    {
      "cell_type": "markdown",
      "metadata": {
        "id": "tp-4zyjNRmsF"
      },
      "source": [
        "Obtenga todas las llaves de su diccionario"
      ]
    },
    {
      "cell_type": "code",
      "metadata": {
        "id": "Avi_39_JRqC1",
        "outputId": "d383e104-3933-43d2-debb-cae68f34ae24",
        "colab": {
          "base_uri": "https://localhost:8080/"
        }
      },
      "source": [
        "dic.keys()"
      ],
      "execution_count": 21,
      "outputs": [
        {
          "output_type": "execute_result",
          "data": {
            "text/plain": [
              "dict_keys(['Nombre', 'Edad', 'Profesion', 'Paises', 'Peso'])"
            ]
          },
          "metadata": {
            "tags": []
          },
          "execution_count": 21
        }
      ]
    },
    {
      "cell_type": "markdown",
      "metadata": {
        "id": "gXlTyVw4Rqb6"
      },
      "source": [
        "Obtenga todos los datos de su diccionario"
      ]
    },
    {
      "cell_type": "code",
      "metadata": {
        "id": "d5EN9QQPRvp-",
        "outputId": "06b02ef5-bb6a-46d2-fbec-b8ab6233a00a",
        "colab": {
          "base_uri": "https://localhost:8080/"
        }
      },
      "source": [
        "dic.values()"
      ],
      "execution_count": 22,
      "outputs": [
        {
          "output_type": "execute_result",
          "data": {
            "text/plain": [
              "dict_values([['Juan', 'Andres', 'Camilo'], [25, 30, 35], ['Ingeniero', 'Medico', 'Independiente'], [['Colombia', 'peru', 'bolivia', 'brazil'], ['estados unidos', 'colombia', 'españa', 'canada'], ['Turquia', 'Alemania', 'china', 'Rusia']], [[60, 61, 62], [75, 74, 73], [80, 80, 80]]])"
            ]
          },
          "metadata": {
            "tags": []
          },
          "execution_count": 22
        }
      ]
    },
    {
      "cell_type": "markdown",
      "metadata": {
        "id": "knfms-xSR3M9"
      },
      "source": [
        "Agregue una persona a su diccionario"
      ]
    },
    {
      "cell_type": "code",
      "metadata": {
        "id": "jiF14NROR-B5"
      },
      "source": [
        ""
      ],
      "execution_count": null,
      "outputs": []
    },
    {
      "cell_type": "markdown",
      "metadata": {
        "id": "sBuzr4_ZR-aV"
      },
      "source": [
        "Cambie la edad de la segunda persona"
      ]
    },
    {
      "cell_type": "code",
      "metadata": {
        "id": "fA_U3Tu2SGg2"
      },
      "source": [
        ""
      ],
      "execution_count": null,
      "outputs": []
    },
    {
      "cell_type": "markdown",
      "metadata": {
        "id": "Gj4Rg8tYSHV8"
      },
      "source": [
        "Cambie el peso de la primera persona en los últimos 3 meses"
      ]
    },
    {
      "cell_type": "code",
      "metadata": {
        "id": "BgnUI0uuSQpD"
      },
      "source": [
        ""
      ],
      "execution_count": null,
      "outputs": []
    },
    {
      "cell_type": "markdown",
      "metadata": {
        "id": "rUBL3PpzS1-B"
      },
      "source": [
        "Cree una copia del diccionario"
      ]
    },
    {
      "cell_type": "code",
      "metadata": {
        "id": "zO5JGpoIS7Cs"
      },
      "source": [
        ""
      ],
      "execution_count": null,
      "outputs": []
    },
    {
      "cell_type": "markdown",
      "metadata": {
        "id": "lgBqHWqbS7Wp"
      },
      "source": [
        "Borre todos los registros de la copia"
      ]
    },
    {
      "cell_type": "code",
      "metadata": {
        "id": "kMTdZYj7TCGd"
      },
      "source": [
        ""
      ],
      "execution_count": null,
      "outputs": []
    },
    {
      "cell_type": "markdown",
      "metadata": {
        "id": "rwrRIb8mwE1b"
      },
      "source": [
        "Cuatro hermanos barrieron las dos canchas de baloncesto. Lucia barrió 2/6, Laura barrió 5/6, Adrián barrio 4/6 y Daniel 1/6 de las canchas ¿Quién barrió más? \n",
        "Solucione el ejercicio usando diccionarios\n"
      ]
    },
    {
      "cell_type": "code",
      "metadata": {
        "id": "sqJJmBbiwLmd"
      },
      "source": [
        ""
      ],
      "execution_count": null,
      "outputs": []
    }
  ]
}